{
 "cells": [
  {
   "cell_type": "code",
   "execution_count": 2,
   "metadata": {},
   "outputs": [
    {
     "name": "stdout",
     "output_type": "stream",
     "text": [
      "Loading data from : C:\\Users\\kupec\\OneDrive\\Desktop\\neuroforest-main\\data_2022\\trajectories_processed\n",
      "Loading data from : C:\\Users\\kupec\\OneDrive\\Desktop\\neuroforest-main\\data_2024\\trajectories_processed\n"
     ]
    }
   ],
   "source": [
    "from typing import List\n",
    "import sys\n",
    "sys.path.append('C:/Users/kupec/OneDrive/Desktop/neuroforest-main/neuroforest-master')\n",
    "import numpy as np\n",
    "from IPython import display\n",
    "from PIL import Image, ImageDraw, ImageFont\n",
    "import matplotlib.pyplot as plt\n",
    "\n",
    "from main import dataloader, to_vect, Coordinates"
   ]
  },
  {
   "cell_type": "code",
   "execution_count": 18,
   "metadata": {},
   "outputs": [],
   "source": [
    "def transform(coords: List[Coordinates], offset: np.ndarray, factor: float) -> np.ndarray:\n",
    "    return (to_vect(coords) + offset) * factor\n",
    "\n",
    "def draw_cross(draw: ImageDraw.Draw, coord: tuple[int, int], time: int):\n",
    "    offset = 10\n",
    "    topleft = (coord[0] - offset, coord[1] - offset)\n",
    "    topright = (coord[0] + offset, coord[1] - offset)\n",
    "    bottomleft = (coord[0] - offset, coord[1] + offset)\n",
    "    bottomright = (coord[0] + offset, coord[1] + offset)\n",
    "    draw.line(topleft + bottomright, fill=(0, 0, 255), width=4)\n",
    "    draw.line(topright + bottomleft, fill=(0, 0, 255), width=4)\n",
    "    font = ImageFont.load_default()\n",
    "    draw.text((coord[0] + 30, coord[1]), anchor=\"mm\", fill=\"blue\",\n",
    "              text=f\"{time}mn\", font=font, align=\"center\")\n",
    "\n",
    "\n"
   ]
  },
  {
   "cell_type": "code",
   "execution_count": 17,
   "metadata": {},
   "outputs": [
    {
     "ename": "NameError",
     "evalue": "name 'draw_cross' is not defined",
     "output_type": "error",
     "traceback": [
      "\u001b[1;31m---------------------------------------------------------------------------\u001b[0m",
      "\u001b[1;31mNameError\u001b[0m                                 Traceback (most recent call last)",
      "Cell \u001b[1;32mIn[17], line 25\u001b[0m\n\u001b[0;32m     23\u001b[0m \u001b[38;5;28;01mfor\u001b[39;00m i, p \u001b[38;5;129;01min\u001b[39;00m \u001b[38;5;28menumerate\u001b[39m(player_coords):\n\u001b[0;32m     24\u001b[0m     \u001b[38;5;28;01mif\u001b[39;00m i \u001b[38;5;241m%\u001b[39m (\u001b[38;5;241m50\u001b[39m \u001b[38;5;241m*\u001b[39m \u001b[38;5;241m60\u001b[39m) \u001b[38;5;241m==\u001b[39m \u001b[38;5;241m0\u001b[39m:\n\u001b[1;32m---> 25\u001b[0m         draw_cross(draw, \u001b[38;5;28mtuple\u001b[39m(p\u001b[38;5;241m.\u001b[39mastype(\u001b[38;5;28mint\u001b[39m)), i \u001b[38;5;241m/\u001b[39m\u001b[38;5;241m/\u001b[39m (\u001b[38;5;241m50\u001b[39m \u001b[38;5;241m*\u001b[39m \u001b[38;5;241m60\u001b[39m))\n\u001b[0;32m     27\u001b[0m \u001b[38;5;66;03m# Sauvegarde de l'image\u001b[39;00m\n\u001b[0;32m     28\u001b[0m im\u001b[38;5;241m.\u001b[39msave(\u001b[38;5;124mf\u001b[39m\u001b[38;5;124m\"\u001b[39m\u001b[38;5;124mplayer_trajectory_\u001b[39m\u001b[38;5;132;01m{\u001b[39;00midx\u001b[38;5;132;01m}\u001b[39;00m\u001b[38;5;124m.png\u001b[39m\u001b[38;5;124m\"\u001b[39m)\n",
      "\u001b[1;31mNameError\u001b[0m: name 'draw_cross' is not defined"
     ]
    }
   ],
   "source": [
    "for idx, sample in enumerate(dataloader):\n",
    "    session = sample[\"patchy\"]\n",
    "    if session is None:\n",
    "        print(\"No session\")\n",
    "        continue\n",
    "\n",
    "    ZOOM_FACTOR = 1.5\n",
    "\n",
    "    # Transformation des coordonnées\n",
    "    mushrooms_coords = transform(session.mushroom_coords, np.array([200, 0, 200]), ZOOM_FACTOR)\n",
    "    mushrooms_coords = mushrooms_coords[:, [0, 2]]\n",
    "    player_coords = transform([c[\"coord\"] for c in session.player_coords], np.array([200, 0, 200]), ZOOM_FACTOR)\n",
    "    player_coords = player_coords[:, [0, 2]]\n",
    "    max_coord_x = int(mushrooms_coords[:, 0].max())\n",
    "    max_coord_z = int(mushrooms_coords[:, 1].max())\n",
    "\n",
    "    # Création de l'image\n",
    "    with Image.new(mode=\"RGB\", size=(max_coord_x, max_coord_z)) as im:\n",
    "        draw = ImageDraw.Draw(im)\n",
    "        for m in mushrooms_coords:\n",
    "            draw.ellipse((tuple((m - 10).astype(int)), tuple((m + 10).astype(int))), outline=\"green\", width=2)\n",
    "        draw.line([tuple(p) for p in player_coords.astype(int)], fill=(255, 0, 0), width=5)\n",
    "        for i, p in enumerate(player_coords):\n",
    "            if i % (50 * 60) == 0:\n",
    "                draw_cross(draw, tuple(p.astype(int)), i // (50 * 60))\n",
    "        \n",
    "        # Sauvegarde de l'image\n",
    "        im.save(f\"player_trajectory_{idx}.png\")\n",
    "        print(f\"Image saved as player_trajectory_{idx}.png\")"
   ]
  }
 ],
 "metadata": {
  "kernelspec": {
   "display_name": "base",
   "language": "python",
   "name": "python3"
  },
  "language_info": {
   "codemirror_mode": {
    "name": "ipython",
    "version": 3
   },
   "file_extension": ".py",
   "mimetype": "text/x-python",
   "name": "python",
   "nbconvert_exporter": "python",
   "pygments_lexer": "ipython3",
   "version": "3.12.4"
  }
 },
 "nbformat": 4,
 "nbformat_minor": 2
}
