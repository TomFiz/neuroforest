{
 "cells": [
  {
   "cell_type": "code",
   "execution_count": 1,
   "metadata": {},
   "outputs": [
    {
     "name": "stdout",
     "output_type": "stream",
     "text": [
      "Loading data from : C:\\Users\\TomFi\\Desktop\\Cours\\Projet IA\\data_2022\\trajectories_processed\n"
     ]
    }
   ],
   "source": [
    "from typing import List\n",
    "import sys\n",
    "sys.path.append('C:/Users/TomFi/Desktop/Cours/Projet IA/neuroforest-master')\n",
    "sys.path.append('C:/Users/TomFi/Desktop/Cours/Projet IA/deepHL')\n",
    "import numpy as np\n",
    "import json\n",
    "import os\n",
    "import time\n",
    "from tqdm import tqdm\n",
    "from IPython import display\n",
    "from PIL import Image, ImageDraw, ImageFont\n",
    "from sklearn.preprocessing import MinMaxScaler\n",
    "\n",
    "from main import dataloader, to_vect, Coordinates, calculate_asrs\n",
    "import matplotlib.pyplot as plt\n",
    "import torch\n",
    "import torch.nn as nn\n",
    "import torch.nn.functional as F\n"
   ]
  },
  {
   "cell_type": "code",
   "execution_count": 20,
   "metadata": {},
   "outputs": [
    {
     "name": "stdout",
     "output_type": "stream",
     "text": [
      "Uniform batches shape: torch.Size([9, 4, 1200, 2])\n",
      "Train batches shape: torch.Size([8, 4, 1200, 2])\n",
      "Test batches shape: torch.Size([4, 1200, 2])\n",
      "ASRS scores: tensor([[1., 1., 0., 1.],\n",
      "        [0., 1., 1., 1.],\n",
      "        [0., 0., 1., 0.],\n",
      "        [1., 1., 1., 1.],\n",
      "        [1., 1., 1., 1.],\n",
      "        [1., 0., 1., 1.],\n",
      "        [0., 1., 0., 1.],\n",
      "        [1., 1., 1., 1.]])\n"
     ]
    }
   ],
   "source": [
    "def create_batches(dataloader, session_type: str, batch_size: int):\n",
    "    trajectories = []\n",
    "    asrs = []\n",
    "\n",
    "    for sample in dataloader:\n",
    "        session = sample[session_type]\n",
    "        if session is not None:\n",
    "            player_coords = np.array([c[\"coord\"].to_vect() for c in session.player_coords])\n",
    "            player_coords = player_coords[:, [0, 2]]  # Keep only x and z coordinates\n",
    "            trajectories.append(player_coords)\n",
    "        asrs_score = calculate_asrs(sample.answers)\n",
    "        asrs.append(asrs_score)\n",
    "\n",
    "    # Determine the minimum length of the trajectories\n",
    "    length = min(len(traj) for traj in trajectories)\n",
    "\n",
    "    # Truncate the trajectories to the minimum length\n",
    "    truncated_trajectories = np.array([traj[:length] for traj in trajectories])\n",
    "    tensor_trajectories = torch.tensor(truncated_trajectories, dtype=torch.float32)\n",
    "\n",
    "    # Create batches\n",
    "    num_batches = len(tensor_trajectories) // batch_size\n",
    "    batches = tensor_trajectories[:num_batches * batch_size].view(num_batches, batch_size, length, 2)\n",
    "    asrs = torch.tensor(np.array(asrs[:num_batches * batch_size])).view(num_batches, batch_size)\n",
    "    return batches, asrs\n",
    "\n",
    "# Create batches for \"uniform\" and \"patchy\" session types\n",
    "batch_size = 4\n",
    "uniform_batches,asrs = create_batches(dataloader, \"uniform\", batch_size)\n",
    "high_probability_adhd = torch.Tensor((np.array(asrs) >= 24).astype(int))\n",
    "\n",
    "\n",
    "# For each trajectory, select only 1 point every second, linearly spaced\n",
    "uniform_batches = uniform_batches[:, :, ::25]\n",
    "print(f\"Uniform batches shape: {uniform_batches.shape}\")\n",
    "\n",
    "# Split the batches to a train and test\n",
    "x_train = uniform_batches[:-1]\n",
    "x_test = uniform_batches[-1]\n",
    "y_train = high_probability_adhd[:-1]\n",
    "y_test = high_probability_adhd[-1]\n",
    "print(f\"Train batches shape: {x_train.shape}\")\n",
    "print(f\"Test batches shape: {x_test.shape}\")\n",
    "\n",
    "\n",
    "# patchy_batches,_ = create_batches(dataloader, \"patchy\", batch_size)\n",
    "# print(f\"Uniform batches shape: {uniform_batches.shape}\")\n",
    "# print(f\"Patchy batches shape: {patchy_batches.shape}\")\n",
    "\n",
    "print(f\"ASRS scores: {asrs}\")"
   ]
  },
  {
   "cell_type": "code",
   "execution_count": 28,
   "metadata": {},
   "outputs": [
    {
     "data": {
      "image/png": "[encoded data removed]",
      "text/plain": [
       "<Figure size 640x480 with 1 Axes>"
      ]
     },
     "metadata": {},
     "output_type": "display_data"
    }
   ],
   "source": [
    "class LSTMWithAttention(nn.Module):\n",
    "    def __init__(self, input_dim, hidden_dim, num_layers, dropout):\n",
    "        super(LSTMWithAttention, self).__init__()\n",
    "        self.lstm = nn.LSTM(input_dim, hidden_dim, num_layers, batch_first=True, dropout=dropout)\n",
    "        self.attention = nn.MultiheadAttention(embed_dim=hidden_dim, num_heads=1, dropout=dropout)\n",
    "        self.dense1 = nn.Linear(hidden_dim, 1)\n",
    "        self.dense2 = nn.Linear(1200,1)\n",
    "        self.activation = nn.Sigmoid()\n",
    "\n",
    "    def forward(self, x):\n",
    "        lstm_out, _ = self.lstm(x)\n",
    "        seq_len = lstm_out.size(1)\n",
    "        lstm_out = lstm_out.permute(1, 0, 2)\n",
    "        attention_out = self.attention(lstm_out, lstm_out, lstm_out)[0]\n",
    "        dense_out = self.dense1(attention_out).view(-1, 1200)\n",
    "        dense_out = self.dense2(dense_out)\n",
    "        probability = self.activation(dense_out)\n",
    "        return probability\n",
    "\n",
    "# Define the model parameters\n",
    "input_dim = 2  # x and z coordinates\n",
    "hidden_dim = 64\n",
    "num_layers = 4\n",
    "dropout = 0.5\n",
    "\n",
    "# Instantiate the model\n",
    "model = LSTMWithAttention(input_dim, hidden_dim, num_layers, dropout)\n",
    "print(model)\n",
    "\n",
    "# Define the loss function and optimizer\n",
    "criterion = nn.BCELoss(reduction='mean')\n",
    "optimizer = torch.optim.Adam(model.parameters(), lr=0.001)\n",
    "\n",
    "# Example training loop\n",
    "num_epochs = 20\n",
    "for epoch in range(num_epochs):\n",
    "    train_loss = 0\n",
    "    for minibatch in range(x_train.shape[0]):\n",
    "        x_train_batch = uniform_batches[minibatch]\n",
    "        y_train_batch = high_probability_adhd[minibatch]\n",
    "        \n",
    "        model.train()\n",
    "        optimizer.zero_grad()\n",
    "        \n",
    "        # Forward pass\n",
    "        outputs = model(x_train_batch)\n",
    "        loss = criterion(outputs.squeeze(), torch.tensor(y_train_batch, dtype=torch.float32))\n",
    "        \n",
    "        # Backward pass and optimization\n",
    "        loss.backward()\n",
    "        optimizer.step()\n",
    "        train_loss += loss.item()/x_train.shape[0]\n",
    "        \n",
    "    # add validation on test set\n",
    "    # val_loss = criterion(model(x_test).squeeze(), torch.tensor(y_test, dtype=torch.float32)).item()/x_test.shape[0]\n",
    "\n",
    "    # print(f'Epoch {epoch+1}/{num_epochs}, Minibatch {minibatch+1}/{x_train.shape[0]}, Loss: {train_loss}, Val Loss: {val_loss}')\n",
    "    \n",
    "    # Dynamic plot to showcase the evolution of the loss\n",
    "    if epoch == 0:\n",
    "        plt.ion()\n",
    "        fig, ax = plt.subplots()\n",
    "        losses = []\n",
    "        val_losses = []\n",
    "\n",
    "    losses.append(train_loss)\n",
    "    # val_losses.append(val_loss)\n",
    "    ax.clear()\n",
    "    ax.plot(losses, label='Train', color = 'navy')\n",
    "    # ax.plot(val_losses, label='Validation', color = 'r')\n",
    "    ax.set_xlabel('Epoch')\n",
    "    ax.set_ylabel('Loss')\n",
    "    ax.set_title('Loss Over Epochs')\n",
    "    ax.legend()\n",
    "    display.display(fig)\n",
    "    display.clear_output(wait=True)"
   ]
  },
  {
   "cell_type": "code",
   "execution_count": 30,
   "metadata": {},
   "outputs": [
    {
     "name": "stdout",
     "output_type": "stream",
     "text": [
      "LSTMWithAttention(\n",
      "  (lstm): LSTM(2, 64, num_layers=4, batch_first=True, dropout=0.5)\n",
      "  (attention): MultiheadAttention(\n",
      "    (out_proj): NonDynamicallyQuantizableLinear(in_features=64, out_features=64, bias=True)\n",
      "  )\n",
      "  (dense1): Linear(in_features=64, out_features=1, bias=True)\n",
      "  (dense2): Linear(in_features=1200, out_features=1, bias=True)\n",
      "  (activation): Sigmoid()\n",
      ")\n"
     ]
    }
   ],
   "source": [
    "print(model)\n",
    "torch.save(model.state_dict(), 'LSTM_attention.pkl')"
   ]
  }
 ],
 "metadata": {
  "kernelspec": {
   "display_name": "Python 3",
   "language": "python",
   "name": "python3"
  },
  "language_info": {
   "codemirror_mode": {
    "name": "ipython",
    "version": 3
   },
   "file_extension": ".py",
   "mimetype": "text/x-python",
   "name": "python",
   "nbconvert_exporter": "python",
   "pygments_lexer": "ipython3",
   "version": "3.12.2"
  }
 },
 "nbformat": 4,
 "nbformat_minor": 2
}
