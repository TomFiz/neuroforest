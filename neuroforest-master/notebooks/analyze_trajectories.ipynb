{
 "cells": [
  {
   "cell_type": "code",
   "execution_count": 3,
   "metadata": {},
   "outputs": [],
   "source": [
    "from typing import List\n",
    "import sys\n",
    "sys.path.append('C:/Users/TomFi/Desktop/Cours/Projet IA/neuroforest-master')\n",
    "import numpy as np\n",
    "from IPython import display\n",
    "from PIL import Image, ImageDraw, ImageFont\n",
    "\n",
    "from main import dataloader, to_vect, Coordinates\n",
    "import matplotlib.pyplot as plt\n",
    "import torch"
   ]
  },
  {
   "cell_type": "code",
   "execution_count": 9,
   "metadata": {},
   "outputs": [
    {
     "name": "stdout",
     "output_type": "stream",
     "text": [
      "Uniform batches shape: torch.Size([39, 1, 29999, 2])\n",
      "Patchy batches shape: torch.Size([38, 1, 29998, 2])\n"
     ]
    }
   ],
   "source": [
    "def create_batches(dataloader, session_type: str, batch_size: int):\n",
    "    trajectories = []\n",
    "\n",
    "    for sample in dataloader:\n",
    "        session = sample[session_type]\n",
    "        if session is not None:\n",
    "            player_coords = np.array([c[\"coord\"].to_vect() for c in session.player_coords])\n",
    "            player_coords = player_coords[:, [0, 2]]  # Keep only x and z coordinates\n",
    "            trajectories.append(player_coords)\n",
    "\n",
    "    # Determine the minimum length of the trajectories\n",
    "    min_length = min(len(traj) for traj in trajectories)\n",
    "\n",
    "    # Truncate the trajectories to the minimum length\n",
    "    truncated_trajectories = np.array([traj[:min_length] for traj in trajectories])\n",
    "    tensor_trajectories = torch.tensor(truncated_trajectories, dtype=torch.float32)\n",
    "\n",
    "    # Create batches\n",
    "    num_batches = len(tensor_trajectories) // batch_size\n",
    "    batches = tensor_trajectories[:num_batches * batch_size].view(num_batches, batch_size, min_length, 2)\n",
    "\n",
    "    return batches\n",
    "\n",
    "# Create batches for \"uniform\" and \"patchy\" session types\n",
    "batch_size = 1\n",
    "uniform_batches = create_batches(dataloader, \"uniform\", batch_size)\n",
    "patchy_batches = create_batches(dataloader, \"patchy\", batch_size)\n",
    "\n",
    "print(f\"Uniform batches shape: {uniform_batches.shape}\")\n",
    "print(f\"Patchy batches shape: {patchy_batches.shape}\")"
   ]
  },
  {
   "cell_type": "code",
   "execution_count": null,
   "metadata": {},
   "outputs": [],
   "source": []
  }
 ],
 "metadata": {
  "kernelspec": {
   "display_name": "Python 3",
   "language": "python",
   "name": "python3"
  },
  "language_info": {
   "codemirror_mode": {
    "name": "ipython",
    "version": 3
   },
   "file_extension": ".py",
   "mimetype": "text/x-python",
   "name": "python",
   "nbconvert_exporter": "python",
   "pygments_lexer": "ipython3",
   "version": "3.12.2"
  }
 },
 "nbformat": 4,
 "nbformat_minor": 2
}
