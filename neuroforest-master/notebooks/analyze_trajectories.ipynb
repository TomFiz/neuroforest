{
 "cells": [
  {
   "cell_type": "code",
   "execution_count": 1,
   "metadata": {},
   "outputs": [
    {
     "name": "stdout",
     "output_type": "stream",
     "text": [
<<<<<<< HEAD
      "Loading data from : C:\\Users\\kupec\\OneDrive\\Desktop\\neuroforest-main\\data_2022\\trajectories_processed\n"
=======
      "Loading data from : C:\\Users\\TomFi\\Desktop\\Cours\\Projet IA\\data_2022\\trajectories_processed\n",
      "Loading data from : C:\\Users\\TomFi\\Desktop\\Cours\\Projet IA\\data_2024\\trajectories_processed\n"
>>>>>>> 34861404cfae89052cf87fd0c8afaf36e886c6ab
     ]
    }
   ],
   "source": [
    "from typing import List\n",
    "import sys\n",
    "sys.path.append('C:/Users/kupec/OneDrive/Desktop/neuroforest-main/neuroforest-master')\n",
    "sys.path.append('C:/Users/TomFi/Desktop/Cours/Projet IA/deepHL')\n",
    "import numpy as np\n",
    "import json\n",
    "import os\n",
    "import time\n",
    "from tqdm import tqdm\n",
    "from IPython import display\n",
    "from PIL import Image, ImageDraw, ImageFont\n",
    "from sklearn.preprocessing import MinMaxScaler\n",
    "\n",
    "\n",
    "from main import to_vect, Coordinates, calculate_asrs, classify_asrs, dataloader, dataloader_2024\n",
    "import matplotlib.pyplot as plt\n",
    "import torch\n",
    "import torch.nn as nn\n",
    "import torch.nn.functional as F\n"
   ]
  },
  {
   "cell_type": "code",
   "execution_count": 2,
   "metadata": {},
<<<<<<< HEAD
   "outputs": [
    {
     "name": "stdout",
     "output_type": "stream",
     "text": [
      "Uniform batches shape: torch.Size([9, 4, 1200, 2])\n",
      "Train batches shape: torch.Size([8, 4, 1200, 2])\n",
      "Test batches shape: torch.Size([4, 1200, 2])\n",
      "ASRS scores: tensor([[32, 36, 32, 37],\n",
      "        [ 4, 32, 33, 22],\n",
      "        [46, 21, 40, 31],\n",
      "        [19, 24, 39, 49],\n",
      "        [26, 17, 35, 48],\n",
      "        [34, 34, 23, 34],\n",
      "        [33, 26, 33, 20],\n",
      "        [53, 32, 21, 29],\n",
      "        [45, 26, 31, 36]], dtype=torch.int32)\n"
     ]
    }
   ],
=======
   "outputs": [],
>>>>>>> 34861404cfae89052cf87fd0c8afaf36e886c6ab
   "source": [
    "def create_batches(dataloader, session_type: str, batch_size: int):\n",
    "    trajectories = []\n",
    "    asrs = []\n",
    "    \n",
    "    for sample in dataloader:\n",
    "        session = sample[session_type]\n",
    "        if session is not None:\n",
    "            if sample.answers is not None:\n",
    "                player_coords = np.array([c[\"coord\"].to_vect() for c in session.player_coords])\n",
    "                player_coords = player_coords[:, [0, 2]]  # Keep only x and z coordinates\n",
    "                trajectories.append(player_coords)\n",
    "                asrs_score = classify_asrs(sample.answers)\n",
    "                asrs.append(asrs_score)\n",
    "\n",
    "    # Determine the minimum length of the trajectories\n",
    "    length = min(len(traj) for traj in trajectories)\n",
    "\n",
    "    # Truncate the trajectories to the minimum length\n",
    "    truncated_trajectories = np.array([traj[:length] for traj in trajectories])\n",
    "    tensor_trajectories = torch.tensor(truncated_trajectories, dtype=torch.float32)\n",
    "\n",
    "    # Create batches\n",
    "    num_batches = min(len(tensor_trajectories), len(asrs)) // batch_size\n",
    "    if len(asrs) == len(trajectories):\n",
    "        batches = tensor_trajectories[:num_batches * batch_size].view(num_batches, batch_size, length, 2)\n",
    "        # Reduce the frequency\n",
    "        batches = batches[:, :, ::25]\n",
    "        asrs = torch.tensor(np.array(asrs[:num_batches * batch_size])).view(num_batches, batch_size)\n",
    "    return batches, asrs"
   ]
  },
  {
   "cell_type": "code",
   "execution_count": 3,
   "metadata": {},
   "outputs": [
    {
     "name": "stdout",
     "output_type": "stream",
     "text": [
      "Uniform batches shape: torch.Size([9, 4, 1200, 2])\n",
      "Train batches shape: torch.Size([9, 4, 1200, 2])\n",
      "Test batches shape: torch.Size([4, 1200, 2])\n",
      "ASRS scores: tensor([[ 0,  8,  5,  3],\n",
      "        [ 7,  5,  6,  6],\n",
      "        [ 5,  1,  2, 12],\n",
      "        [ 7,  5, 10, 12],\n",
      "        [ 5,  1,  2,  4],\n",
      "        [ 6,  1,  2,  8],\n",
      "        [ 3,  5,  5,  5],\n",
      "        [12,  3,  5,  6],\n",
      "        [ 0,  5, 11,  5]], dtype=torch.int32)\n"
     ]
    }
   ],
   "source": [
    "# Create batches for \"uniform\" and \"patchy\" session types\n",
    "batch_size = 4\n",
    "uniform_batches,asrs = create_batches(dataloader, \"uniform\", batch_size)\n",
    "high_probability_adhd = torch.Tensor((np.array(asrs) >= 4).astype(int))\n",
    "\n",
    "\n",
    "# For each trajectory, select only 1 point every second, linearly spaced\n",
    "print(f\"Uniform batches shape: {uniform_batches.shape}\")\n",
    "\n",
    "# Split the batches to a train and test\n",
    "x_train = uniform_batches\n",
    "x_test = uniform_batches[-1]\n",
    "y_train = high_probability_adhd\n",
    "y_test = high_probability_adhd[-1]\n",
    "print(f\"Train batches shape: {x_train.shape}\")\n",
    "print(f\"Test batches shape: {x_test.shape}\")\n",
    "\n",
    "\n",
    "# patchy_batches,_ = create_batches(dataloader, \"patchy\", batch_size)\n",
    "# print(f\"Uniform batches shape: {uniform_batches.shape}\")\n",
    "# print(f\"Patchy batches shape: {patchy_batches.shape}\")\n",
    "\n",
    "print(f\"ASRS scores: {asrs}\")"
   ]
  },
  {
   "cell_type": "code",
<<<<<<< HEAD
   "execution_count": 3,
=======
   "execution_count": 4,
   "metadata": {},
   "outputs": [
    {
     "name": "stdout",
     "output_type": "stream",
     "text": [
      "Test batches shape: torch.Size([2, 4, 1200, 2])\n",
      "Test ASRS scores: tensor([[3, 5, 0, 4],\n",
      "        [2, 4, 8, 8]], dtype=torch.int32)\n"
     ]
    }
   ],
   "source": [
    "test_batches, test_asrs = create_batches(dataloader_2024, \"uniform\", batch_size=batch_size)\n",
    "test_batches = test_batches[:, :, ::25]\n",
    "test_HP_adhd = torch.Tensor((np.array(test_asrs) >= 4).astype(int))\n",
    "\n",
    "print(f\"Test batches shape: {test_batches.shape}\")\n",
    "print(f\"Test ASRS scores: {test_asrs}\")"
   ]
  },
  {
   "cell_type": "code",
   "execution_count": 8,
>>>>>>> 34861404cfae89052cf87fd0c8afaf36e886c6ab
   "metadata": {},
   "outputs": [
    {
     "data": {
<<<<<<< HEAD
      "image/png": "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",
=======
      "image/png": "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",
>>>>>>> 34861404cfae89052cf87fd0c8afaf36e886c6ab
      "text/plain": [
       "<Figure size 640x480 with 1 Axes>"
      ]
     },
     "metadata": {},
     "output_type": "display_data"
    }
   ],
   "source": [
    "class LSTMWithAttention(nn.Module):\n",
    "    def __init__(self, input_dim, hidden_dim, num_layers, dropout):\n",
    "        super(LSTMWithAttention, self).__init__()\n",
    "        self.lstm = nn.LSTM(input_dim, hidden_dim, num_layers, batch_first=True, dropout=dropout)\n",
    "        self.attention = nn.MultiheadAttention(embed_dim=hidden_dim, num_heads=1, dropout=dropout)\n",
    "        self.dense1 = nn.Linear(hidden_dim, 1)\n",
    "        self.dense2 = nn.Linear(1200,1)\n",
    "        self.activation = nn.Sigmoid()\n",
    "\n",
    "    def forward(self, x):\n",
    "        lstm_out, _ = self.lstm(x)\n",
    "        seq_len = lstm_out.size(1)\n",
    "        lstm_out = lstm_out.permute(1, 0, 2)\n",
    "        attention_out = self.attention(lstm_out, lstm_out, lstm_out)[0]\n",
    "        dense_out = self.dense1(attention_out).view(-1, 1200)\n",
    "        dense_out = self.dense2(dense_out)\n",
    "        probability = self.activation(dense_out)\n",
    "        return probability\n",
    "\n",
    "# Define the model parameters\n",
    "input_dim = 2  # x and z coordinates\n",
    "hidden_dim = 64\n",
    "num_layers = 4\n",
    "dropout = 0.5\n",
    "\n",
    "# Instantiate the model\n",
    "model = LSTMWithAttention(input_dim, hidden_dim, num_layers, dropout)\n",
    "print(model)\n",
    "\n",
    "# Define the loss function and optimizer\n",
    "criterion = nn.BCELoss(reduction='mean')\n",
    "optimizer = torch.optim.Adam(model.parameters(), lr=0.001)\n",
    "\n",
    "# Example training loop\n",
    "num_epochs = 22\n",
    "for epoch in range(num_epochs):\n",
    "    train_loss = 0\n",
    "    for batch in range(x_train.shape[0]):\n",
    "        x_train_batch = uniform_batches[batch]\n",
    "        y_train_batch = high_probability_adhd[batch]\n",
    "        \n",
    "        model.train()\n",
    "        optimizer.zero_grad()\n",
    "        \n",
    "        # Forward pass\n",
    "        outputs = model(x_train_batch)\n",
    "        loss = criterion(outputs.squeeze(), torch.tensor(y_train_batch, dtype=torch.float32))\n",
    "        \n",
    "        # Backward pass and optimization\n",
    "        loss.backward()\n",
    "        optimizer.step()\n",
    "        train_loss += loss.item()/x_train.shape[0]\n",
    "        \n",
    "    # add validation on test set\n",
    "    # val_loss = criterion(model(x_test).squeeze(), torch.tensor(y_test, dtype=torch.float32)).item()/x_test.shape[0]\n",
    "\n",
    "    # print(f'Epoch {epoch+1}/{num_epochs}, batch {batch+1}/{x_train.shape[0]}, Loss: {train_loss}, Val Loss: {val_loss}')\n",
    "    \n",
    "    # Dynamic plot to showcase the evolution of the loss\n",
    "    if epoch == 0:\n",
    "        plt.ion()\n",
    "        fig, ax = plt.subplots()\n",
    "        losses = []\n",
    "        val_losses = []\n",
    "\n",
    "    losses.append(train_loss)\n",
    "    # val_losses.append(val_loss)\n",
    "    ax.clear()\n",
    "    ax.plot(losses, label='Train', color = 'navy')\n",
    "    # ax.plot(val_losses, label='Validation', color = 'r')\n",
    "    ax.set_xlabel('Epoch')\n",
    "    ax.set_ylabel('Loss')\n",
    "    ax.set_title('Loss Over Epochs')\n",
    "    ax.legend()\n",
    "    display.display(fig)\n",
    "    display.clear_output(wait=True)"
   ]
  },
  {
   "cell_type": "code",
   "execution_count": 4,
   "metadata": {},
   "outputs": [
    {
     "name": "stdout",
     "output_type": "stream",
     "text": [
      "LSTMWithAttention(\n",
      "  (lstm): LSTM(2, 64, num_layers=4, batch_first=True, dropout=0.5)\n",
      "  (attention): MultiheadAttention(\n",
      "    (out_proj): NonDynamicallyQuantizableLinear(in_features=64, out_features=64, bias=True)\n",
      "  )\n",
      "  (dense1): Linear(in_features=64, out_features=1, bias=True)\n",
      "  (dense2): Linear(in_features=1200, out_features=1, bias=True)\n",
      "  (activation): Sigmoid()\n",
      ")\n"
     ]
    }
   ],
   "source": [
    "print(model)\n",
    "torch.save(model.state_dict(), 'LSTM_attention.pkl')"
   ]
  },
  {
   "cell_type": "code",
   "execution_count": 9,
   "metadata": {},
   "outputs": [
    {
     "name": "stdout",
     "output_type": "stream",
     "text": [
      "[0.7813065  0.99121255 0.98669666 0.98434085 0.65126246 0.9614688\n",
      " 0.94640625 0.9218924 ]\n",
      "tensor([[0., 1., 0., 1.],\n",
      "        [0., 1., 1., 1.]])\n"
     ]
    }
   ],
   "source": [
    "outputs = []\n",
    "for batch in range(test_batches.shape[0]):\n",
    "    x_test_batch = test_batches[batch]\n",
    "    outputs.append(model(x_test_batch).squeeze().detach().numpy())\n",
    "outputs = np.array(outputs).flatten()\n",
    "print(outputs)\n",
    "print(test_HP_adhd)"
   ]
  },
  {
   "cell_type": "code",
   "execution_count": null,
   "metadata": {},
   "outputs": [],
   "source": []
  }
 ],
 "metadata": {
  "kernelspec": {
   "display_name": "Python 3",
   "language": "python",
   "name": "python3"
  },
  "language_info": {
   "codemirror_mode": {
    "name": "ipython",
    "version": 3
   },
   "file_extension": ".py",
   "mimetype": "text/x-python",
   "name": "python",
   "nbconvert_exporter": "python",
   "pygments_lexer": "ipython3",
   "version": "3.11.5"
  }
 },
 "nbformat": 4,
 "nbformat_minor": 2
}
