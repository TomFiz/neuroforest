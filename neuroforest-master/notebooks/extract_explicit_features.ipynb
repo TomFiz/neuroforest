{
 "cells": [
  {
   "cell_type": "code",
   "execution_count": 109,
   "metadata": {},
   "outputs": [],
   "source": [
    "from typing import List\n",
    "import sys\n",
    "sys.path.append('C:/Users/kupec/OneDrive/Desktop/neuroforest-main/neuroforest-master')\n",
    "import numpy as np\n",
    "import json\n",
    "import os\n",
    "import time\n",
    "from tqdm import tqdm\n",
    "from main import dataloader, to_vect, Coordinates, calculate_asrs\n",
    "import matplotlib.pyplot as plt\n",
    "import torch"
   ]
  },
  {
   "cell_type": "code",
   "execution_count": 142,
   "metadata": {},
   "outputs": [],
   "source": [
    "def features_extraction(dataloader, session_type):\n",
    "    trajectories = []\n",
    "    for sample in tqdm(dataloader, desc = \"Extracting coords\"):\n",
    "        session = sample[\"uniform\"]  \n",
    "        if session is not None:\n",
    "            player_coords = np.array([c[\"coord\"].to_vect() for c in session.player_coords])  \n",
    "            player_coords = player_coords[:, [0, 2]]  # Keep only x and z\n",
    "\n",
    "            if player_coords.shape[0] > 29999 :\n",
    "                player_coords = player_coords[:29999] #we keep a consistent shape by removing one or two points at the end\n",
    "\n",
    "            trajectories.append(player_coords)  # trajectories is a list of arrays, which have shape (nb_points, 2)\n",
    "    return trajectories\n",
    "\n",
    "def features_computing(trajectories):   \n",
    "    speeds = []\n",
    "    accelerations = [] \n",
    "    angles = []\n",
    "    angular_speeds = []\n",
    "    angular_accelerations = []\n",
    "    curvatures = []\n",
    "    \n",
    "    for trajectory in tqdm(trajectories, desc=\"Computing players trajectories\"):\n",
    "        iterator = 0\n",
    "        v_instant = []\n",
    "        a_instant = []\n",
    "        angle_instant = []\n",
    "        angular_speed_instant = []\n",
    "        angular_acceleration_instant = []\n",
    "        curvature_instant = []\n",
    "\n",
    "        while iterator < len(trajectory) - 1:  \n",
    "            # Calcul de la vitesse\n",
    "            delta_coords = trajectory[iterator + 1] - trajectory[iterator]\n",
    "            speed = delta_coords * 25\n",
    "            v_instant.append(speed)\n",
    "            \n",
    "            # Calcul de l'accélération\n",
    "            if len(v_instant) > 1:      \n",
    "                delta_v = v_instant[-2] - v_instant[-1]\n",
    "                a_instant.append(delta_v * 25)\n",
    "            else:\n",
    "                a_instant.append(np.array([0.0, 0.0])) \n",
    "\n",
    "            if iterator > 0 :\n",
    "                # Calcul de l'angle formé par trois points\n",
    "                P1 = trajectory[iterator - 1]\n",
    "                P2 = trajectory[iterator]\n",
    "                P3 = trajectory[iterator + 1]\n",
    "        \n",
    "                vec_u = P2 - P1  \n",
    "                vec_v = P3 - P2  \n",
    "                \n",
    "                # Normes des vecteurs\n",
    "                norm_u = np.linalg.norm(vec_u)\n",
    "                norm_v = np.linalg.norm(vec_v)\n",
    "                \n",
    "                if norm_u != 0 and norm_v != 0:  # Éviter la division par zéro\n",
    "                    cos_theta = np.dot(vec_u, vec_v) / (norm_u * norm_v)\n",
    "                    # Pour éviter des erreurs dues aux imprécisions numériques, on limite cos_theta à l'intervalle [-1, 1]\n",
    "                    cos_theta = np.clip(cos_theta, -1.0, 1.0)\n",
    "                    angle = np.arccos(cos_theta)  # Angle en radians\n",
    "                else:\n",
    "                    angle = 0.0 \n",
    "                \n",
    "                angle_instant.append(angle)\n",
    "            else:\n",
    "                angle_instant.append(0.0)\n",
    "\n",
    "            \n",
    "            # Calcul de la vitesse angulaire\n",
    "            if len(angle_instant) > 1:\n",
    "                angular_velocity = angle_instant[-1] - angle_instant[-2]\n",
    "                angular_speed_instant.append(angular_velocity * 25)\n",
    "            else:\n",
    "                angular_speed_instant.append(0.0)  \n",
    "            \n",
    "            # Calcul de l'accélération angulaire\n",
    "            if len(angular_speed_instant) > 1:\n",
    "                angular_acc = angular_speed_instant[-1] - angular_speed_instant[-2]\n",
    "                angular_acceleration_instant.append(angular_acc * 25)\n",
    "            else:\n",
    "                angular_acceleration_instant.append(0.0)  # Première valeur, pas d'accélération angulaire\n",
    "            \n",
    "            # Calcul de la courbure instantanée\n",
    "            if iterator >= 1:  # On a besoin de deux points pour calculer la courbure\n",
    "                x0, y0 = trajectory[iterator - 1]\n",
    "                x1, y1 = trajectory[iterator]\n",
    "                x2, y2 = trajectory[iterator + 1]\n",
    "                # Calcul de la courbure\n",
    "                numerator = (x1 - x0) * (y2 - y1) - (x2 - x1) * (y1 - y0)\n",
    "                denominator = np.sqrt(((x1 - x0)**2 + (y1 - y0)**2) * ((x2 - x1)**2 + (y2 - y1)**2))\n",
    "                curvature_instant.append(numerator / denominator if denominator != 0 else 0.0)\n",
    "            else:\n",
    "                curvature_instant.append(0.0)  # Première valeur, pas de courbure\n",
    "            \n",
    "            iterator += 1\n",
    "        \n",
    "        # Gérer les valeurs initiales pour les listes\n",
    "        a_instant[0] = a_instant[1] if len(a_instant) > 1 else np.array([0.0, 0.0]) \n",
    "        angle_instant[0] = angle_instant[1] if len(angle_instant) > 1 else np.array([0.0, 0.0]) \n",
    "        angular_speed_instant[0] = angular_speed_instant[1] if len(angular_speed_instant) > 1 else np.array([0.0, 0.0]) \n",
    "        angular_acceleration_instant[0] = angular_acceleration_instant[1] if len(angular_acceleration_instant) > 1 else np.array([0.0, 0.0]) \n",
    "        \n",
    "        \n",
    "        speeds.append([v_instant, np.mean(v_instant), np.var(v_instant)])\n",
    "        accelerations.append([a_instant, np.mean(a_instant), np.var(a_instant)])\n",
    "        angles.append([angle_instant, np.mean(angle_instant), np.var(angle_instant)])\n",
    "        angular_speeds.append([angular_speed_instant, np.mean(angular_speed_instant), np.var(angular_speed_instant)])\n",
    "        angular_accelerations.append([angular_acceleration_instant, np.mean(angular_acceleration_instant), np.var(angular_acceleration_instant)])\n",
    "        curvatures.append([curvature_instant, np.mean(curvature_instant), np.var(curvature_instant)])\n",
    "    \n",
    "    return {\"speeds\" : speeds, \"accelerations\" : accelerations, \"angles\" : angles, \"angular speeds\" : angular_speeds, \"angular accelerations\" : angular_accelerations, \"curvatures\" : curvatures}\n",
    "\n",
    "            \n",
    "def feature_reduction(feature, points_per_second, original_points_per_second = 25):\n",
    "    interval = original_points_per_second // points_per_second\n",
    "    reduced_feature = []\n",
    "    for j in tqdm(range(len(feature))):\n",
    "        reduced_feature.append([])\n",
    "        for i in tqdm(range(0, len(feature[j]), interval)):\n",
    "            block = feature[j][i:i + interval]\n",
    "            mean_feature = np.mean(block, axis=0)\n",
    "            reduced_feature[j].append(mean_feature)\n",
    "    \n",
    "    \n",
    "    return reduced_feature\n",
    "\n",
    "    \n",
    "#features_extraction gives an array-like of dimension [nb_player, nb_timestamps, 2]\n",
    "\n",
    "#features_computing gives an array-like of dimension [nb_features, nb_player, 3, nb_timestamps, 2]\n",
    "#Its structure is dictionnary -> list -> list -> arrays -> np.float64\n",
    "\n",
    "#feature_reduction gives an array-like of dimension [nb_player, nb_timestamps_reduced, 2], and should be fed a [nb_player, nb_timestamps, 2] array-like\n",
    "\n",
    "#nb_features dimension uses dictionnary for indexation "
   ]
  },
  {
   "cell_type": "code",
   "execution_count": 115,
   "metadata": {},
   "outputs": [
    {
     "name": "stderr",
     "output_type": "stream",
     "text": [
      "Extracting coords:  15%|█▌        | 6/39 [00:06<00:36,  1.12s/it]Exception ignored in: <bound method IPythonKernel._clean_thread_parent_frames of <ipykernel.ipkernel.IPythonKernel object at 0x000001FC987050D0>>\n",
      "Traceback (most recent call last):\n",
      "  File \"c:\\Users\\kupec\\anaconda3\\Lib\\site-packages\\ipykernel\\ipkernel.py\", line 790, in _clean_thread_parent_frames\n",
      "    active_threads = {thread.ident for thread in threading.enumerate()}\n",
      "                                                 ^^^^^^^^^^^^^^^^^^^^^\n",
      "  File \"c:\\Users\\kupec\\anaconda3\\Lib\\threading.py\", line 1494, in enumerate\n",
      "    def enumerate():\n",
      "    \n",
      "KeyboardInterrupt: \n",
      "Extracting coords: 100%|██████████| 39/39 [00:38<00:00,  1.00it/s]\n"
     ]
    }
   ],
   "source": [
    "trajectories = features_extraction(dataloader, \"uniform\")"
   ]
  },
  {
   "cell_type": "code",
   "execution_count": 143,
   "metadata": {},
   "outputs": [
    {
     "name": "stderr",
     "output_type": "stream",
     "text": [
      "Computing players trajectories: 100%|██████████| 39/39 [01:17<00:00,  1.99s/it]\n"
     ]
    }
   ],
   "source": [
    "features = features_computing(trajectories)"
   ]
  },
  {
   "cell_type": "code",
   "execution_count": 172,
   "metadata": {},
   "outputs": [
    {
     "name": "stdout",
     "output_type": "stream",
     "text": [
      "2.406224271641195\n"
     ]
    }
   ],
   "source": [
    "print((features[\"speeds\"][8][2]))"
   ]
  },
  {
   "cell_type": "code",
   "execution_count": 130,
   "metadata": {},
   "outputs": [
    {
     "name": "stderr",
     "output_type": "stream",
     "text": [
      "100%|██████████| 1200/1200 [00:00<00:00, 5859.21it/s]\n",
      "100%|██████████| 1200/1200 [00:00<00:00, 14409.33it/s]\n",
      "100%|██████████| 1200/1200 [00:00<00:00, 7747.42it/s]\n",
      "100%|██████████| 1200/1200 [00:00<00:00, 16591.34it/s]\n",
      "100%|██████████| 1200/1200 [00:00<00:00, 12639.76it/s]\n",
      "100%|██████████| 1200/1200 [00:00<00:00, 12323.86it/s]\n",
      "100%|██████████| 1200/1200 [00:00<00:00, 15171.88it/s]\n",
      "100%|██████████| 1200/1200 [00:00<00:00, 17418.57it/s]\n",
      "100%|██████████| 1200/1200 [00:00<00:00, 13234.41it/s]\n",
      "100%|██████████| 1200/1200 [00:00<00:00, 11079.21it/s]\n",
      "100%|██████████| 1200/1200 [00:00<00:00, 9639.92it/s] \n",
      "100%|██████████| 1200/1200 [00:00<00:00, 11633.96it/s]\n",
      "100%|██████████| 1200/1200 [00:00<00:00, 10469.12it/s]\n",
      "100%|██████████| 1200/1200 [00:00<00:00, 8082.42it/s]\n",
      "100%|██████████| 1200/1200 [00:00<00:00, 7592.06it/s]\n",
      "100%|██████████| 1200/1200 [00:00<00:00, 15245.69it/s]\n",
      "100%|██████████| 1200/1200 [00:00<00:00, 10727.51it/s]\n",
      "100%|██████████| 1200/1200 [00:00<00:00, 8070.31it/s] \n",
      "100%|██████████| 1200/1200 [00:00<00:00, 7938.80it/s]\n",
      "100%|██████████| 1200/1200 [00:00<00:00, 7728.27it/s]\n",
      "100%|██████████| 1200/1200 [00:00<00:00, 17769.02it/s]\n",
      "100%|██████████| 1200/1200 [00:00<00:00, 17853.55it/s]\n",
      "100%|██████████| 1200/1200 [00:00<00:00, 9476.80it/s]\n",
      "100%|██████████| 1200/1200 [00:00<00:00, 8413.84it/s]\n",
      "100%|██████████| 1200/1200 [00:00<00:00, 9844.71it/s] \n",
      "100%|██████████| 1200/1200 [00:00<00:00, 6438.46it/s]\n",
      "100%|██████████| 1200/1200 [00:00<00:00, 6879.99it/s]\n",
      "100%|██████████| 1200/1200 [00:00<00:00, 6098.40it/s]\n",
      "100%|██████████| 1200/1200 [00:00<00:00, 6976.23it/s]\n",
      "100%|██████████| 1200/1200 [00:00<00:00, 7588.32it/s]\n",
      "100%|██████████| 1200/1200 [00:00<00:00, 14016.87it/s]\n",
      "100%|██████████| 1200/1200 [00:00<00:00, 13155.51it/s]\n",
      "100%|██████████| 1200/1200 [00:00<00:00, 10394.74it/s]\n",
      "100%|██████████| 1200/1200 [00:00<00:00, 10026.78it/s]\n",
      "100%|██████████| 1200/1200 [00:00<00:00, 9789.01it/s] \n",
      "100%|██████████| 1200/1200 [00:00<00:00, 4819.65it/s]\n",
      "100%|██████████| 1200/1200 [00:00<00:00, 13045.17it/s]\n",
      "100%|██████████| 1200/1200 [00:00<00:00, 10402.26it/s]\n",
      "100%|██████████| 1200/1200 [00:00<00:00, 12526.70it/s]\n",
      "100%|██████████| 39/39 [00:05<00:00,  7.19it/s]\n"
     ]
    }
   ],
   "source": [
    "reduced_speeds = feature_reduction(features[0], 1)"
   ]
  },
  {
   "cell_type": "code",
   "execution_count": 131,
   "metadata": {},
   "outputs": [
    {
     "data": {
      "text/plain": [
       "1200"
      ]
     },
     "execution_count": 131,
     "metadata": {},
     "output_type": "execute_result"
    }
   ],
   "source": [
    "len(reduced_speeds[0])"
   ]
  }
 ],
 "metadata": {
  "kernelspec": {
   "display_name": "Python 3",
   "language": "python",
   "name": "python3"
  },
  "language_info": {
   "codemirror_mode": {
    "name": "ipython",
    "version": 3
   },
   "file_extension": ".py",
   "mimetype": "text/x-python",
   "name": "python",
   "nbconvert_exporter": "python",
   "pygments_lexer": "ipython3",
   "version": "3.11.5"
  }
 },
 "nbformat": 4,
 "nbformat_minor": 2
}
