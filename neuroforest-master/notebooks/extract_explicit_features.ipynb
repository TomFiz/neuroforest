{
 "cells": [
  {
   "cell_type": "code",
   "execution_count": 102,
   "metadata": {},
   "outputs": [],
   "source": [
    "from typing import List\n",
    "import sys\n",
    "sys.path.append('C:/Users/kupec/OneDrive/Desktop/neuroforest-main/neuroforest-master')\n",
    "import numpy as np\n",
    "import json\n",
    "import os\n",
    "import time\n",
    "from tqdm import tqdm\n",
    "from main import dataloader, to_vect, Coordinates, calculate_asrs\n",
    "import matplotlib.pyplot as plt\n",
    "import torch"
   ]
  },
  {
   "cell_type": "code",
   "execution_count": 104,
   "metadata": {},
   "outputs": [],
   "source": [
    "def features_extraction(dataloader, session_type):\n",
    "    trajectories = []\n",
    "    for sample in tqdm(dataloader, desc = \"Data extraction\"):\n",
    "        session = sample[\"uniform\"]  \n",
    "        if session is not None:\n",
    "            player_coords = np.array([c[\"coord\"].to_vect() for c in session.player_coords])  \n",
    "            player_coords = player_coords[:, [0, 2]]  # Keep only x and z\n",
    "\n",
    "            if player_coords.shape[0] > 29999 :\n",
    "                player_coords = player_coords[:29999] #we keep a consistent shape by removing one or two points at the end\n",
    "\n",
    "            trajectories.append(player_coords)  # trajectories is a list of arrays, which have shape (nb_points, 2)\n",
    "    return trajectories\n",
    "\n",
    "def features_computing(trajectories):   \n",
    "    speeds = []\n",
    "    accelerations = [] \n",
    "    angles = []\n",
    "    angular_speed = []\n",
    "    angular_acceleration = []\n",
    "    curvature = []\n",
    "    \n",
    "    for trajectory in tqdm(trajectories, desc=\"Computing players trajectories\"):\n",
    "        iterator = 0\n",
    "        v_instant = []\n",
    "        a_instant = []\n",
    "        angle_instant = []\n",
    "        angular_speed_instant = []\n",
    "        angular_acceleration_instant = []\n",
    "        curvature_instant = []\n",
    "\n",
    "        while iterator < len(trajectory) - 1:  \n",
    "            # Calcul de la vitesse\n",
    "            delta_coords = trajectory[iterator + 1] - trajectory[iterator]\n",
    "            speed = delta_coords * 25\n",
    "            v_instant.append(speed)\n",
    "            \n",
    "            # Calcul de l'accélération\n",
    "            if len(v_instant) > 1:      \n",
    "                delta_v = v_instant[-2] - v_instant[-1]\n",
    "                a_instant.append(delta_v * 25)\n",
    "            else:\n",
    "                a_instant.append(np.array([0.0, 0.0])) \n",
    "\n",
    "            if iterator > 0 :\n",
    "                # Calcul de l'angle formé par trois points\n",
    "                P1 = trajectory[iterator - 1]\n",
    "                P2 = trajectory[iterator]\n",
    "                P3 = trajectory[iterator + 1]\n",
    "        \n",
    "                vec_u = P2 - P1  \n",
    "                vec_v = P3 - P2  \n",
    "                \n",
    "                # Normes des vecteurs\n",
    "                norm_u = np.linalg.norm(vec_u)\n",
    "                norm_v = np.linalg.norm(vec_v)\n",
    "                \n",
    "                if norm_u != 0 and norm_v != 0:  # Éviter la division par zéro\n",
    "                    cos_theta = np.dot(vec_u, vec_v) / (norm_u * norm_v)\n",
    "                    # Pour éviter des erreurs dues aux imprécisions numériques, on limite cos_theta à l'intervalle [-1, 1]\n",
    "                    cos_theta = np.clip(cos_theta, -1.0, 1.0)\n",
    "                    angle = np.arccos(cos_theta)  # Angle en radians\n",
    "                else:\n",
    "                    angle = 0.0 \n",
    "                \n",
    "                angle_instant.append(angle)\n",
    "            else:\n",
    "                angle_instant.append(0.0)\n",
    "\n",
    "            \n",
    "            # Calcul de la vitesse angulaire\n",
    "            if len(angle_instant) > 1:\n",
    "                angular_velocity = angle_instant[-1] - angle_instant[-2]\n",
    "                angular_speed_instant.append(angular_velocity * 25)\n",
    "            else:\n",
    "                angular_speed_instant.append(0.0)  \n",
    "            \n",
    "            # Calcul de l'accélération angulaire\n",
    "            if len(angular_speed_instant) > 1:\n",
    "                angular_acceleration = angular_speed_instant[-1] - angular_speed_instant[-2]\n",
    "                angular_acceleration_instant.append(angular_acceleration * 25)\n",
    "            else:\n",
    "                angular_acceleration_instant.append(0.0)  # Première valeur, pas d'accélération angulaire\n",
    "            \n",
    "            # Calcul de la courbure instantanée\n",
    "            if iterator >= 1:  # On a besoin de deux points pour calculer la courbure\n",
    "                x0, y0 = trajectory[iterator - 1]\n",
    "                x1, y1 = trajectory[iterator]\n",
    "                x2, y2 = trajectory[iterator + 1]\n",
    "                # Calcul de la courbure\n",
    "                numerator = (x1 - x0) * (y2 - y1) - (x2 - x1) * (y1 - y0)\n",
    "                denominator = np.sqrt(((x1 - x0)**2 + (y1 - y0)**2) * ((x2 - x1)**2 + (y2 - y1)**2))\n",
    "                curvature_instant.append(numerator / denominator if denominator != 0 else 0.0)\n",
    "            else:\n",
    "                curvature_instant.append(0.0)  # Première valeur, pas de courbure\n",
    "            \n",
    "            iterator += 1\n",
    "        \n",
    "        # Gérer les valeurs initiales pour les listes\n",
    "        a_instant[0] = a_instant[1] if len(a_instant) > 1 else np.array([0.0, 0.0]) \n",
    "        angle_instant[0] = angle_instant[1] if len(angle_instant) > 1 else np.array([0.0, 0.0]) \n",
    "        angular_speed_instant[0] = angular_speed_instant[1] if len(angular_speed_instant) > 1 else np.array([0.0, 0.0]) \n",
    "        angular_acceleration_instant[0] = angular_acceleration_instant[1] if len(angular_acceleration_instant) > 1 else np.array([0.0, 0.0]) \n",
    "\n",
    "        speeds.append(v_instant)\n",
    "        accelerations.append(a_instant)\n",
    "        angles.append(angle_instant)\n",
    "        angular_speed.append(angular_speed_instant)\n",
    "        angular_acceleration.append(angular_acceleration_instant)\n",
    "        curvature.append(curvature_instant)\n",
    "\n",
    "    return [speeds, accelerations, angles, angular_speed, angular_acceleration, curvature]\n",
    "\n",
    "            \n",
    "def feature_reduction(feature, points_per_second, original_points_per_second = 25):\n",
    "    interval = original_points_per_second // points_per_second\n",
    "    reduced_feature = []\n",
    "    for j in tqdm(range(len(feature))):\n",
    "        reduced_feature.append([])\n",
    "        for i in tqdm(range(0, len(feature[j]), interval)):\n",
    "            block = feature[j][i:i + interval]\n",
    "            mean_feature = np.mean(block, axis=0)\n",
    "            reduced_feature[j].append(mean_feature)\n",
    "    \n",
    "    \n",
    "    return reduced_feature\n",
    "\n",
    "    \n"
   ]
  },
  {
   "cell_type": "code",
   "execution_count": 50,
   "metadata": {},
   "outputs": [
    {
     "name": "stderr",
     "output_type": "stream",
     "text": [
      "Data extraction: 100%|██████████| 39/39 [00:17<00:00,  2.24it/s]\n"
     ]
    }
   ],
   "source": [
    "trajectories = features_extraction(dataloader, \"uniform\")"
   ]
  },
  {
   "cell_type": "code",
   "execution_count": 66,
   "metadata": {},
   "outputs": [
    {
     "name": "stderr",
     "output_type": "stream",
     "text": [
      "Computing players trajectories: 100%|██████████| 39/39 [00:07<00:00,  4.89it/s]\n"
     ]
    }
   ],
   "source": [
    "features = features_computing(trajectories)"
   ]
  },
  {
   "cell_type": "code",
   "execution_count": 99,
   "metadata": {},
   "outputs": [
    {
     "data": {
      "text/plain": [
       "29998"
      ]
     },
     "execution_count": 99,
     "metadata": {},
     "output_type": "execute_result"
    }
   ],
   "source": [
    "len(features[0][0])"
   ]
  },
  {
   "cell_type": "code",
   "execution_count": 94,
   "metadata": {},
   "outputs": [
    {
     "name": "stderr",
     "output_type": "stream",
     "text": [
      "100%|██████████| 1200/1200 [00:00<00:00, 23586.47it/s]\n",
      "100%|██████████| 1200/1200 [00:00<00:00, 31782.25it/s]\n",
      "100%|██████████| 1200/1200 [00:00<00:00, 28712.38it/s]\n",
      "100%|██████████| 1200/1200 [00:00<00:00, 31331.56it/s]\n",
      "100%|██████████| 1200/1200 [00:00<00:00, 32021.87it/s]\n",
      "100%|██████████| 1200/1200 [00:00<00:00, 31191.37it/s]\n",
      "100%|██████████| 1200/1200 [00:00<00:00, 29419.43it/s]\n",
      "100%|██████████| 1200/1200 [00:00<00:00, 27067.88it/s]\n",
      "100%|██████████| 1200/1200 [00:00<00:00, 33214.10it/s]\n",
      "100%|██████████| 1200/1200 [00:00<00:00, 31684.02it/s]\n",
      "100%|██████████| 1200/1200 [00:00<00:00, 33955.10it/s]\n",
      "100%|██████████| 1200/1200 [00:00<00:00, 30403.79it/s]\n",
      "100%|██████████| 1200/1200 [00:00<00:00, 28722.21it/s]\n",
      "100%|██████████| 1200/1200 [00:00<00:00, 11064.21it/s]\n",
      "100%|██████████| 1200/1200 [00:00<00:00, 29157.31it/s]\n",
      "100%|██████████| 1200/1200 [00:00<00:00, 26975.76it/s]\n",
      "100%|██████████| 1200/1200 [00:00<00:00, 34038.92it/s]\n",
      "100%|██████████| 1200/1200 [00:00<00:00, 28206.32it/s]\n",
      "100%|██████████| 1200/1200 [00:00<00:00, 31987.68it/s]\n",
      "100%|██████████| 1200/1200 [00:00<00:00, 30334.16it/s]\n",
      "100%|██████████| 1200/1200 [00:00<00:00, 29860.49it/s]\n",
      "100%|██████████| 1200/1200 [00:00<00:00, 31635.03it/s]\n",
      "100%|██████████| 1200/1200 [00:00<00:00, 32046.54it/s]\n",
      "100%|██████████| 1200/1200 [00:00<00:00, 30183.90it/s]\n",
      "100%|██████████| 1200/1200 [00:00<00:00, 21478.69it/s]\n",
      "100%|██████████| 1200/1200 [00:00<00:00, 27090.03it/s]\n",
      "100%|██████████| 1200/1200 [00:00<00:00, 31086.76it/s]\n",
      "100%|██████████| 1200/1200 [00:00<00:00, 29368.79it/s]\n",
      "100%|██████████| 1200/1200 [00:00<00:00, 31298.44it/s]\n",
      "100%|██████████| 1200/1200 [00:00<00:00, 31008.82it/s]\n",
      "100%|██████████| 1200/1200 [00:00<00:00, 28869.99it/s]\n",
      "100%|██████████| 1200/1200 [00:00<00:00, 31397.23it/s]\n",
      "100%|██████████| 1200/1200 [00:00<00:00, 10724.51it/s]\n",
      "100%|██████████| 1200/1200 [00:00<00:00, 29379.93it/s]\n",
      "100%|██████████| 1200/1200 [00:00<00:00, 27630.16it/s]\n",
      "100%|██████████| 1200/1200 [00:00<00:00, 29675.98it/s]\n",
      "100%|██████████| 1200/1200 [00:00<00:00, 29892.94it/s]\n",
      "100%|██████████| 1200/1200 [00:00<00:00, 29384.05it/s]\n",
      "100%|██████████| 1200/1200 [00:00<00:00, 29626.89it/s]\n",
      "100%|██████████| 39/39 [00:01<00:00, 20.23it/s]\n"
     ]
    }
   ],
   "source": [
    "reduced_features = feature_reduction(features[0], 1)"
   ]
  },
  {
   "cell_type": "code",
   "execution_count": 98,
   "metadata": {},
   "outputs": [
    {
     "data": {
      "text/plain": [
       "1200"
      ]
     },
     "execution_count": 98,
     "metadata": {},
     "output_type": "execute_result"
    }
   ],
   "source": [
    "len(reduced_features[0])"
   ]
  }
 ],
 "metadata": {
  "kernelspec": {
   "display_name": "Python 3",
   "language": "python",
   "name": "python3"
  },
  "language_info": {
   "codemirror_mode": {
    "name": "ipython",
    "version": 3
   },
   "file_extension": ".py",
   "mimetype": "text/x-python",
   "name": "python",
   "nbconvert_exporter": "python",
   "pygments_lexer": "ipython3",
   "version": "3.11.5"
  }
 },
 "nbformat": 4,
 "nbformat_minor": 2
}
