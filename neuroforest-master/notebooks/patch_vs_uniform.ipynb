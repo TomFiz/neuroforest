{
 "cells": [
  {
   "cell_type": "markdown",
   "id": "d6db3bd0cd0cd0f8",
   "metadata": {
    "collapsed": false
   },
   "source": [
    "Método:\n",
    "- On considère que chaque sample est un couple de session patchy/uniform\n",
    "- On sépare patchy de uniform (avant le dict encoding sinon il va fissurer)\n",
    "- On preprocess (Dict encoding, rescaling/norm peut-être)\n",
    "- On kfold, pour chaque split:\n",
    "    - Pour chaque sample du train ou du test, on le sépare en 2, avec Y = 0 pour patchy, 1 Pour uniform\n",
    "    - On fait le train comme ça, puis le test. Pour chacun, après avoir splitté, il faut penser à shuffle\n",
    "    - on calcule soit la MSE, soit l'accuracy/F1\n",
    "    - Idée pour le test: on prend chaque paire, on compare la prédiction, et on regarde si c'est bien classifié ou pas\n",
    "\n",
    "Classes clefs:\n",
    "- Kfold\n",
    "- DictVectorizer\n",
    "- \n"
   ]
  },
  {
   "cell_type": "code",
   "execution_count": 19,
   "id": "f93d627c0902b473",
   "metadata": {
    "ExecuteTime": {
     "end_time": "2023-10-02T18:21:30.621724775Z",
     "start_time": "2023-10-02T18:21:29.632422322Z"
    },
    "collapsed": false
   },
   "outputs": [],
   "source": [
    "import json\n",
    "import os\n",
    "from collections import OrderedDict\n",
    "from pathlib import Path\n",
    "\n",
    "import matplotlib.pyplot as plt\n",
    "import numpy as np\n",
    "from sklearn.feature_extraction import DictVectorizer\n",
    "from sklearn.linear_model import LinearRegression\n",
    "from sklearn.model_selection import KFold\n",
    "from sklearn.preprocessing import RobustScaler\n",
    "from sklearn.manifold import TSNE\n",
    "from sklearn.utils import shuffle\n",
    "from neuroforest.dataset import DATA_FOLDER\n",
    "# from umap import UMAP"
   ]
  },
  {
   "cell_type": "code",
   "execution_count": 12,
   "id": "3913d04667cf1002",
   "metadata": {
    "ExecuteTime": {
     "end_time": "2023-09-29T18:20:26.516443912Z",
     "start_time": "2023-09-29T18:20:26.457586664Z"
    },
    "collapsed": false
   },
   "outputs": [],
   "source": [
    "FEATURES_PATH = DATA_FOLDER / \"trajectory_features.json\"\n",
    "\n",
    "if Path(os.getcwd()).name == \"notebooks\":\n",
    "    os.chdir(\"..\")\n",
    "\n",
    "with FEATURES_PATH.open() as feat_file:\n",
    "    raw_features: dict[str, dict[str, float]] = json.load(feat_file)"
   ]
  },
  {
   "cell_type": "code",
   "execution_count": 13,
   "id": "c5d024aad4191fd4",
   "metadata": {
    "ExecuteTime": {
     "end_time": "2023-10-04T14:30:50.686903994Z",
     "start_time": "2023-10-04T14:30:50.644270901Z"
    },
    "collapsed": false
   },
   "outputs": [],
   "source": [
    "separated_features: dict[str, dict[str, int]] = OrderedDict()\n",
    "features_list: list[dict[str, float]] = list()\n",
    "session_types = [\"uniform\",\"patchy\"]\n",
    "idx = 0\n",
    "for subject, feats in raw_features.items():\n",
    "    sep_feats = {sess_t: dict() for sess_t in session_types}\n",
    "    for feat_name, feat_val in feats.items():\n",
    "        if feat_name != \"asrs\" :\n",
    "            feat_sess, feat_real_name = feat_name.split(\"/\")\n",
    "            if feat_sess in sep_feats:\n",
    "                sep_feats[feat_sess][feat_real_name] = feat_val\n",
    "\n",
    "    separated_features[subject] = {}\n",
    "    for sess_type, feats in sep_feats.items():\n",
    "        separated_features[subject][sess_type] = idx\n",
    "        features_list.append(feats)\n",
    "        idx += 1\n"
   ]
  },
  {
   "cell_type": "code",
   "execution_count": 14,
   "id": "5a7cf92aad9cfa13",
   "metadata": {
    "ExecuteTime": {
     "end_time": "2023-10-04T14:30:53.938935181Z",
     "start_time": "2023-10-04T14:30:53.921903884Z"
    },
    "collapsed": false
   },
   "outputs": [],
   "source": [
    "dict_vectorizer = DictVectorizer(sparse=False)\n",
    "feats_array = dict_vectorizer.fit_transform(features_list)"
   ]
  },
  {
   "cell_type": "code",
   "execution_count": 15,
   "id": "baf956d135456a",
   "metadata": {
    "ExecuteTime": {
     "end_time": "2023-10-04T14:30:55.421266005Z",
     "start_time": "2023-10-04T14:30:55.368501259Z"
    },
    "collapsed": false
   },
   "outputs": [
    {
     "name": "stdout",
     "output_type": "stream",
     "text": [
      "0.875\n",
      "0.625\n",
      "0.75\n",
      "0.7142857142857143\n",
      "0.42857142857142855\n"
     ]
    }
   ],
   "source": [
    "kfold = KFold(n_splits=5)\n",
    "\n",
    "mapping = {\"uniform\": 0, \"patchy\": 1}\n",
    "\n",
    "for train_set, test_set in kfold.split(separated_features):\n",
    "    train_set, test_set = set(train_set), set(test_set)\n",
    "    # List of (feat_x, class_y) tuples\n",
    "    train_samples: list[tuple[np.ndarray, int]] = []\n",
    "    test_samples: dict[str, list[np.ndarray]] = {sess_type: [] for sess_type in mapping}\n",
    "    for idx, (subject, sessions) in enumerate(separated_features.items()):\n",
    "        if idx in train_set:\n",
    "            for sess_type, sess_id in sessions.items():\n",
    "                train_samples.append((\n",
    "                    feats_array[sess_id], mapping[sess_type]\n",
    "                ))\n",
    "        if idx in test_set:\n",
    "            for sess_type, sess_id in sessions.items():\n",
    "                test_samples[sess_type].append(feats_array[sess_id])\n",
    "\n",
    "    train_x, train_y = map(np.array, zip(*train_samples))\n",
    "    scaler = RobustScaler()\n",
    "    train_x = scaler.fit_transform(train_x)\n",
    "    train_x, train_y = shuffle(train_x, train_y, random_state=4577)\n",
    "\n",
    "    for sess_type, test_feats in list(test_samples.items()):\n",
    "        test_samples[sess_type] = scaler.transform(np.array(test_feats))\n",
    "\n",
    "    regressor = LinearRegression()\n",
    "    regressor.fit(train_x, train_y)\n",
    "    test_pred = {sess_type: regressor.predict(test_feats)\n",
    "                 for sess_type, test_feats in test_samples.items()}\n",
    "    print((test_pred[\"uniform\"] < test_pred[\"patchy\"]).mean())"
   ]
  },
  {
   "cell_type": "code",
   "execution_count": 16,
   "id": "eba009cc172584e0",
   "metadata": {
    "ExecuteTime": {
     "end_time": "2023-10-04T14:31:02.257573115Z",
     "start_time": "2023-10-04T14:31:02.169141502Z"
    },
    "collapsed": false
   },
   "outputs": [
    {
     "data": {
      "text/plain": [
       "[{'capture_ratio': 0.1196706102225523,\n",
       "  'gathered_mushrooms_convex_hull': 0.06473127244315618,\n",
       "  'gathered_mushrooms_distance': -0.6413763494183667,\n",
       "  'gathered_mushrooms_trajectory': -0.5584799375554877,\n",
       "  'performance': 0.3452127247317439,\n",
       "  'player_convex_hull': -0.10910099924221373,\n",
       "  'player_distance': 0.6711493037898723,\n",
       "  'player_trajectory': 0.2441134652407736}]"
      ]
     },
     "execution_count": 16,
     "metadata": {},
     "output_type": "execute_result"
    }
   ],
   "source": [
    "dict_vectorizer.inverse_transform([regressor.coef_])"
   ]
  },
  {
   "cell_type": "code",
   "execution_count": 20,
   "id": "cac8956c6900a4c",
   "metadata": {
    "ExecuteTime": {
     "end_time": "2023-10-02T18:18:46.121672926Z",
     "start_time": "2023-10-02T18:18:37.068982643Z"
    },
    "collapsed": false
   },
   "outputs": [
    {
     "data": {
      "text/plain": [
       "(76, 2)"
      ]
     },
     "execution_count": 20,
     "metadata": {},
     "output_type": "execute_result"
    }
   ],
   "source": [
    "scaled_feats_array = RobustScaler().fit_transform(feats_array)\n",
    "tsne = TSNE(n_components=2, random_state=42)\n",
    "reduced_feats_array = tsne.fit_transform(scaled_feats_array)\n",
    "reduced_feats_array.shape"
   ]
  },
  {
   "cell_type": "code",
   "execution_count": 21,
   "id": "3e1a797c0cf110d4",
   "metadata": {
    "ExecuteTime": {
     "end_time": "2023-10-02T18:23:31.917669119Z",
     "start_time": "2023-10-02T18:23:31.595455882Z"
    },
    "collapsed": false
   },
   "outputs": [
    {
     "data": {
      "text/plain": [
       "<matplotlib.collections.PathCollection at 0x1ce3b3ccec0>"
      ]
     },
     "execution_count": 21,
     "metadata": {},
     "output_type": "execute_result"
    },
    {
     "data": {
      "image/png": "[encoded data removed]",
      "text/plain": [
       "<Figure size 640x480 with 1 Axes>"
      ]
     },
     "metadata": {},
     "output_type": "display_data"
    }
   ],
   "source": [
    "plt.scatter(\n",
    "    reduced_feats_array[:, 0],\n",
    "    reduced_feats_array[:, 1],\n",
    "    c=[\"red\" if i % 2 else \"blue\" for i in range(len(reduced_feats_array))])"
   ]
  }
 ],
 "metadata": {
  "kernelspec": {
   "display_name": "Python 3",
   "language": "python",
   "name": "python3"
  },
  "language_info": {
   "codemirror_mode": {
    "name": "ipython",
    "version": 3
   },
   "file_extension": ".py",
   "mimetype": "text/x-python",
   "name": "python",
   "nbconvert_exporter": "python",
   "pygments_lexer": "ipython3",
   "version": "3.12.2"
  }
 },
 "nbformat": 4,
 "nbformat_minor": 5
}
