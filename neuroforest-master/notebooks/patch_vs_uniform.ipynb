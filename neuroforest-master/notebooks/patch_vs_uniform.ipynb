{
 "cells": [
  {
   "cell_type": "markdown",
   "source": [
    "Método:\n",
    "- On considère que chaque sample est un couple de session patchy/uniform\n",
    "- On sépare patchy de uniform (avant le dict encoding sinon il va fissurer)\n",
    "- On preprocess (Dict encoding, rescaling/norm peut-être)\n",
    "- On kfold, pour chaque split:\n",
    "    - Pour chaque sample du train ou du test, on le sépare en 2, avec Y = 0 pour patchy, 1 Pour uniform\n",
    "    - On fait le train comme ça, puis le test. Pour chacun, après avoir splitté, il faut penser à shuffle\n",
    "    - on calcule soit la MSE, soit l'accuracy/F1/ mes couilles (soit tout en fait)\n",
    "    - Idée pour le test: on prend chaque paire, on compare la prédiction, et on regarde si c'est bien classifié ou pas\n",
    "\n",
    "Classes clefs:\n",
    "- Kfold\n",
    "- DictVectorizer\n",
    "- \n"
   ],
   "metadata": {
    "collapsed": false
   },
   "id": "d6db3bd0cd0cd0f8"
  },
  {
   "cell_type": "code",
   "execution_count": 84,
   "outputs": [],
   "source": [
    "import json\n",
    "import os\n",
    "from collections import OrderedDict\n",
    "from pathlib import Path\n",
    "\n",
    "import matplotlib.pyplot as plt\n",
    "import numpy as np\n",
    "from sklearn.feature_extraction import DictVectorizer\n",
    "from sklearn.linear_model import LinearRegression\n",
    "from sklearn.model_selection import KFold\n",
    "from sklearn.preprocessing import RobustScaler\n",
    "from sklearn.utils import shuffle\n",
    "from umap import UMAP"
   ],
   "metadata": {
    "collapsed": false,
    "ExecuteTime": {
     "end_time": "2023-10-02T18:21:30.621724775Z",
     "start_time": "2023-10-02T18:21:29.632422322Z"
    }
   },
   "id": "f93d627c0902b473"
  },
  {
   "cell_type": "code",
   "execution_count": 19,
   "outputs": [],
   "source": [
    "DATA_FOLDER = Path(\"data/\")\n",
    "FEATURES_PATH = DATA_FOLDER / \"feats_simple.json\"\n",
    "\n",
    "if Path(os.getcwd()).name == \"notebooks\":\n",
    "    os.chdir(\"..\")\n",
    "\n",
    "with FEATURES_PATH.open() as feat_file:\n",
    "    raw_features: dict[str, dict[str, float]] = json.load(feat_file)"
   ],
   "metadata": {
    "collapsed": false,
    "ExecuteTime": {
     "end_time": "2023-09-29T18:20:26.516443912Z",
     "start_time": "2023-09-29T18:20:26.457586664Z"
    }
   },
   "id": "3913d04667cf1002"
  },
  {
   "cell_type": "code",
   "execution_count": 97,
   "outputs": [],
   "source": [
    "separated_features: dict[str, dict[str, int]] = OrderedDict()\n",
    "features_list: list[dict[str, float]] = list()\n",
    "session_types = [\"patchy\", \"uniform\"]\n",
    "idx = 0\n",
    "for subject, feats in raw_features.items():\n",
    "    sep_feats = {sess_t: dict() for sess_t in session_types}\n",
    "    for feat_name, feat_val in feats.items():\n",
    "        feat_sess, feat_real_name = feat_name.split(\"/\")\n",
    "        if feat_sess in sep_feats:\n",
    "            sep_feats[feat_sess][feat_real_name] = feat_val\n",
    "\n",
    "    separated_features[subject] = {}\n",
    "    for sess_type, feats in sep_feats.items():\n",
    "        separated_features[subject][sess_type] = idx\n",
    "        features_list.append(feats)\n",
    "        idx += 1\n"
   ],
   "metadata": {
    "collapsed": false,
    "ExecuteTime": {
     "end_time": "2023-10-04T14:30:50.686903994Z",
     "start_time": "2023-10-04T14:30:50.644270901Z"
    }
   },
   "id": "c5d024aad4191fd4"
  },
  {
   "cell_type": "code",
   "execution_count": 38,
   "outputs": [],
   "source": [],
   "metadata": {
    "collapsed": false,
    "ExecuteTime": {
     "end_time": "2023-09-29T18:38:17.366411026Z",
     "start_time": "2023-09-29T18:38:17.335841455Z"
    }
   },
   "id": "ffca8a21f45d60aa"
  },
  {
   "cell_type": "code",
   "execution_count": 98,
   "outputs": [],
   "source": [
    "dict_vectorizer = DictVectorizer(sparse=False)\n",
    "feats_array = dict_vectorizer.fit_transform(features_list)"
   ],
   "metadata": {
    "collapsed": false,
    "ExecuteTime": {
     "end_time": "2023-10-04T14:30:53.938935181Z",
     "start_time": "2023-10-04T14:30:53.921903884Z"
    }
   },
   "id": "5a7cf92aad9cfa13"
  },
  {
   "cell_type": "code",
   "execution_count": 99,
   "outputs": [
    {
     "name": "stdout",
     "output_type": "stream",
     "text": [
      "0.75\n",
      "0.875\n",
      "0.7142857142857143\n",
      "0.42857142857142855\n",
      "0.8571428571428571\n"
     ]
    }
   ],
   "source": [
    "kfold = KFold(n_splits=5)\n",
    "\n",
    "mapping = {\"uniform\": 0, \"patchy\": 1}\n",
    "\n",
    "for train_set, test_set in kfold.split(separated_features):\n",
    "    train_set, test_set = set(train_set), set(test_set)\n",
    "    # List of (feat_x, class_y) tuples\n",
    "    train_samples: list[tuple[np.ndarray, int]] = []\n",
    "    test_samples: dict[str, list[np.ndarray]] = {sess_type: [] for sess_type in mapping}\n",
    "    for idx, (subject, sessions) in enumerate(separated_features.items()):\n",
    "        if idx in train_set:\n",
    "            for sess_type, sess_id in sessions.items():\n",
    "                train_samples.append((\n",
    "                    feats_array[sess_id], mapping[sess_type]\n",
    "                ))\n",
    "        if idx in test_set:\n",
    "            for sess_type, sess_id in sessions.items():\n",
    "                test_samples[sess_type].append(feats_array[sess_id])\n",
    "\n",
    "    train_x, train_y = map(np.array, zip(*train_samples))\n",
    "    scaler = RobustScaler()\n",
    "    train_x = scaler.fit_transform(train_x)\n",
    "    train_x, train_y = shuffle(train_x, train_y, random_state=4577)\n",
    "\n",
    "    for sess_type, test_feats in list(test_samples.items()):\n",
    "        test_samples[sess_type] = scaler.transform(np.array(test_feats))\n",
    "\n",
    "    regressor = LinearRegression()\n",
    "    regressor.fit(train_x, train_y)\n",
    "    test_pred = {sess_type: regressor.predict(test_feats)\n",
    "                 for sess_type, test_feats in test_samples.items()}\n",
    "    print((test_pred[\"uniform\"] < test_pred[\"patchy\"]).mean())"
   ],
   "metadata": {
    "collapsed": false,
    "ExecuteTime": {
     "end_time": "2023-10-04T14:30:55.421266005Z",
     "start_time": "2023-10-04T14:30:55.368501259Z"
    }
   },
   "id": "baf956d135456a"
  },
  {
   "cell_type": "code",
   "execution_count": 100,
   "outputs": [
    {
     "data": {
      "text/plain": "[{'capture_ratio': 0.13749960248131426,\n  'gathered_mushrooms_convex_hull': -0.028689692690769,\n  'gathered_mushrooms_distance': -0.6075901207067261,\n  'gathered_mushrooms_trajectory': -0.4270198886857571,\n  'performance': 0.26199343119267765,\n  'player_convex_hull': -0.002706777073815646,\n  'player_distance': 0.6674315518095938,\n  'player_trajectory': 0.18526124674922811}]"
     },
     "execution_count": 100,
     "metadata": {},
     "output_type": "execute_result"
    }
   ],
   "source": [
    "dict_vectorizer.inverse_transform([regressor.coef_])"
   ],
   "metadata": {
    "collapsed": false,
    "ExecuteTime": {
     "end_time": "2023-10-04T14:31:02.257573115Z",
     "start_time": "2023-10-04T14:31:02.169141502Z"
    }
   },
   "id": "eba009cc172584e0"
  },
  {
   "cell_type": "code",
   "execution_count": 82,
   "outputs": [
    {
     "data": {
      "text/plain": "(74, 2)"
     },
     "execution_count": 82,
     "metadata": {},
     "output_type": "execute_result"
    }
   ],
   "source": [
    "scaled_feats_array = RobustScaler().fit_transform(feats_array)\n",
    "reduced_feats_array = UMAP().fit_transform(scaled_feats_array)\n",
    "reduced_feats_array.shape\n"
   ],
   "metadata": {
    "collapsed": false,
    "ExecuteTime": {
     "end_time": "2023-10-02T18:18:46.121672926Z",
     "start_time": "2023-10-02T18:18:37.068982643Z"
    }
   },
   "id": "cac8956c6900a4c"
  },
  {
   "cell_type": "code",
   "execution_count": 87,
   "outputs": [
    {
     "data": {
      "text/plain": "<matplotlib.collections.PathCollection at 0x7fe85b32b0d0>"
     },
     "execution_count": 87,
     "metadata": {},
     "output_type": "execute_result"
    },
    {
     "data": {
      "text/plain": "<Figure size 640x480 with 1 Axes>",
      "image/png": "[encoded data removed]"
     },
     "metadata": {},
     "output_type": "display_data"
    }
   ],
   "source": [
    "plt.scatter(\n",
    "    reduced_feats_array[:, 0],\n",
    "    reduced_feats_array[:, 1],\n",
    "    c=[\"red\" if i % 2 else \"blue\" for i in range(len(reduced_feats_array))])"
   ],
   "metadata": {
    "collapsed": false,
    "ExecuteTime": {
     "end_time": "2023-10-02T18:23:31.917669119Z",
     "start_time": "2023-10-02T18:23:31.595455882Z"
    }
   },
   "id": "3e1a797c0cf110d4"
  }
 ],
 "metadata": {
  "kernelspec": {
   "display_name": "Python 3",
   "language": "python",
   "name": "python3"
  },
  "language_info": {
   "codemirror_mode": {
    "name": "ipython",
    "version": 2
   },
   "file_extension": ".py",
   "mimetype": "text/x-python",
   "name": "python",
   "nbconvert_exporter": "python",
   "pygments_lexer": "ipython2",
   "version": "2.7.6"
  }
 },
 "nbformat": 4,
 "nbformat_minor": 5
}
